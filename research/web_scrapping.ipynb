{
 "cells": [
  {
   "cell_type": "code",
   "execution_count": 1,
   "metadata": {},
   "outputs": [],
   "source": [
    "#Web Scrapping libraries\n",
    "\n",
    "from bs4 import BeautifulSoup\n",
    "import requests\n",
    "import pandas as pd\n",
    "import os\n",
    "import time\n",
    "import selenium"
   ]
  },
  {
   "cell_type": "markdown",
   "metadata": {},
   "source": [
    "### Types of Properties:\n",
    "\n",
    "- Flats\n",
    "- Societies\n",
    "- Plots\n",
    "- Residential\n",
    "- Independent House"
   ]
  },
  {
   "cell_type": "code",
   "execution_count": 2,
   "metadata": {},
   "outputs": [],
   "source": []
  },
  {
   "cell_type": "code",
   "execution_count": 3,
   "metadata": {},
   "outputs": [],
   "source": [
    "coomon_link = \"https://www.99acres.com/Hyderabad-Real-Estate.htm?nn_account=Google_99acres-brand&nn_campaign=1654065244_63819327792_318480607140&nn_medium=1654065244_63819327792_318480607140&nn_adtype=g_&nn_keyword=%2B99%20%2Bacres&nn_placement=&gad_source=1&gclid=Cj0KCQiAsvWrBhC0ARIsAO4E6f_pA-wHvZ2Kvk8wmZBAQ2XzBxTn3q3UURkAG6zH9K1867sFpclLKGsaAsT-EALw_wcB\""
   ]
  },
  {
   "cell_type": "code",
   "execution_count": 4,
   "metadata": {},
   "outputs": [],
   "source": [
    "flats = pd.DataFrame()"
   ]
  },
  {
   "cell_type": "code",
   "execution_count": 5,
   "metadata": {},
   "outputs": [],
   "source": [
    "#For data scrapping for flats\n",
    "\n",
    "city = \"hyderabad\"\n",
    "page_number = \"1\"\n",
    "\n",
    "flat_link = f\"https://www.99acres.com/flats-for-rent-in-{city}-ffid\""
   ]
  },
  {
   "cell_type": "code",
   "execution_count": 6,
   "metadata": {},
   "outputs": [],
   "source": [
    "page = requests.get(flat_link, headers= headers)"
   ]
  },
  {
   "cell_type": "code",
   "execution_count": null,
   "metadata": {},
   "outputs": [
    {
     "data": {
      "text/plain": [
       "<Response [200]>"
      ]
     },
     "execution_count": 8,
     "metadata": {},
     "output_type": "execute_result"
    }
   ],
   "source": []
  },
  {
   "cell_type": "code",
   "execution_count": null,
   "metadata": {},
   "outputs": [],
   "source": []
  }
 ],
 "metadata": {
  "kernelspec": {
   "display_name": "DataScience",
   "language": "python",
   "name": "python3"
  },
  "language_info": {
   "codemirror_mode": {
    "name": "ipython",
    "version": 3
   },
   "file_extension": ".py",
   "mimetype": "text/x-python",
   "name": "python",
   "nbconvert_exporter": "python",
   "pygments_lexer": "ipython3",
   "version": "3.11.4"
  }
 },
 "nbformat": 4,
 "nbformat_minor": 2
}
